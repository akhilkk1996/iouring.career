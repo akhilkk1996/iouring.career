{
  "nbformat": 4,
  "nbformat_minor": 0,
  "metadata": {
    "colab": {
      "name": "iouringcareer.ipynb",
      "provenance": [],
      "authorship_tag": "ABX9TyNVZL07jybGOk6gsN4kXa8q",
      "include_colab_link": true
    },
    "kernelspec": {
      "name": "python3",
      "display_name": "Python 3"
    },
    "language_info": {
      "name": "python"
    }
  },
  "cells": [
    {
      "cell_type": "markdown",
      "metadata": {
        "id": "view-in-github",
        "colab_type": "text"
      },
      "source": [
        "<a href=\"https://colab.research.google.com/github/akhilkk1996/iouring.career/blob/main/iouringcareer.ipynb\" target=\"_parent\"><img src=\"https://colab.research.google.com/assets/colab-badge.svg\" alt=\"Open In Colab\"/></a>"
      ]
    },
    {
      "cell_type": "code",
      "execution_count": null,
      "metadata": {
        "id": "lnHMhtsCVtxU"
      },
      "outputs": [],
      "source": [
        "cp -r '/content/drive/MyDrive/iouring.csv' '/content/'"
      ]
    },
    {
      "cell_type": "code",
      "source": [
        "import pandas as pd\n",
        "import operator\n",
        "df = pd.read_csv('/content/iouring.csv')\n",
        "df"
      ],
      "metadata": {
        "id": "g3HSWuZFV7dS"
      },
      "execution_count": null,
      "outputs": []
    },
    {
      "cell_type": "code",
      "source": [
        "df.drop(['Unnamed: 0', 'Age', 'Date', 'Id'], axis = 1, inplace = True)"
      ],
      "metadata": {
        "id": "wNkQb7UfXpGO"
      },
      "execution_count": null,
      "outputs": []
    },
    {
      "cell_type": "code",
      "source": [
        "d1=dict()\n",
        "header=list(df.columns.values)\n",
        "fields=[]\n",
        "for field in header:\n",
        "  for i in range(5000):\n",
        "    for c in df[field][i]:\n",
        "      if c in d1:\n",
        "        d1[c]= d1[c]+1\n",
        "      else:\n",
        "        d1[c]=1\n",
        "print (d1)\n"
      ],
      "metadata": {
        "id": "Bb4ydj7HXwQL"
      },
      "execution_count": null,
      "outputs": []
    },
    {
      "cell_type": "code",
      "source": [
        "sdd1 = dict( sorted(d1.items(), key=operator.itemgetter(1),reverse=True))\n",
        "print(sdd1)"
      ],
      "metadata": {
        "id": "q9UC-4dXX0Nv"
      },
      "execution_count": null,
      "outputs": []
    }
  ]
}