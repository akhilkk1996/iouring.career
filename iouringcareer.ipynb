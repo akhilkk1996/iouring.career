{
  "nbformat": 4,
  "nbformat_minor": 0,
  "metadata": {
    "colab": {
      "name": "iouringcareer.ipynb",
      "provenance": [],
      "toc_visible": true,
      "mount_file_id": "1rjInAqxTK834jYG4Qb_IuXByV3tRGFw5",
      "authorship_tag": "ABX9TyP1rF5uugEBtKsI3vNU9lGq",
      "include_colab_link": true
    },
    "kernelspec": {
      "name": "python3",
      "display_name": "Python 3"
    },
    "language_info": {
      "name": "python"
    }
  },
  "cells": [
    {
      "cell_type": "markdown",
      "metadata": {
        "id": "view-in-github",
        "colab_type": "text"
      },
      "source": [
        "<a href=\"https://colab.research.google.com/github/akhilkk1996/iouring.career/blob/main/iouringcareer.ipynb\" target=\"_parent\"><img src=\"https://colab.research.google.com/assets/colab-badge.svg\" alt=\"Open In Colab\"/></a>"
      ]
    },
    {
      "cell_type": "code",
      "execution_count": null,
      "metadata": {
        "id": "lnHMhtsCVtxU"
      },
      "outputs": [],
      "source": [
        "cp -r '/content/drive/MyDrive/iouring.csv' '/content/'"
      ]
    },
    {
      "cell_type": "code",
      "source": [
        "import pandas as pd\n",
        "import operator\n",
        "df = pd.read_csv('/content/iouring.csv')\n",
        "df"
      ],
      "metadata": {
        "colab": {
          "base_uri": "https://localhost:8080/",
          "height": 424
        },
        "id": "g3HSWuZFV7dS",
        "outputId": "413252be-5021-4352-c499-ebed48553fed"
      },
      "execution_count": null,
      "outputs": [
        {
          "output_type": "execute_result",
          "data": {
            "text/html": [
              "\n",
              "  <div id=\"df-a66c9aec-cb17-454c-8514-46df0c234a2f\">\n",
              "    <div class=\"colab-df-container\">\n",
              "      <div>\n",
              "<style scoped>\n",
              "    .dataframe tbody tr th:only-of-type {\n",
              "        vertical-align: middle;\n",
              "    }\n",
              "\n",
              "    .dataframe tbody tr th {\n",
              "        vertical-align: top;\n",
              "    }\n",
              "\n",
              "    .dataframe thead th {\n",
              "        text-align: right;\n",
              "    }\n",
              "</style>\n",
              "<table border=\"1\" class=\"dataframe\">\n",
              "  <thead>\n",
              "    <tr style=\"text-align: right;\">\n",
              "      <th></th>\n",
              "      <th>Unnamed: 0</th>\n",
              "      <th>First Name</th>\n",
              "      <th>Last Name</th>\n",
              "      <th>Gender</th>\n",
              "      <th>Country</th>\n",
              "      <th>Age</th>\n",
              "      <th>Date</th>\n",
              "      <th>Id</th>\n",
              "    </tr>\n",
              "  </thead>\n",
              "  <tbody>\n",
              "    <tr>\n",
              "      <th>0</th>\n",
              "      <td>1</td>\n",
              "      <td>Dulce</td>\n",
              "      <td>Abril</td>\n",
              "      <td>Female</td>\n",
              "      <td>United States</td>\n",
              "      <td>32</td>\n",
              "      <td>15/10/2017</td>\n",
              "      <td>1562</td>\n",
              "    </tr>\n",
              "    <tr>\n",
              "      <th>1</th>\n",
              "      <td>2</td>\n",
              "      <td>Mara</td>\n",
              "      <td>Hashimoto</td>\n",
              "      <td>Female</td>\n",
              "      <td>Great Britain</td>\n",
              "      <td>25</td>\n",
              "      <td>16/08/2016</td>\n",
              "      <td>1582</td>\n",
              "    </tr>\n",
              "    <tr>\n",
              "      <th>2</th>\n",
              "      <td>3</td>\n",
              "      <td>Philip</td>\n",
              "      <td>Gent</td>\n",
              "      <td>Male</td>\n",
              "      <td>France</td>\n",
              "      <td>36</td>\n",
              "      <td>21/05/2015</td>\n",
              "      <td>2587</td>\n",
              "    </tr>\n",
              "    <tr>\n",
              "      <th>3</th>\n",
              "      <td>4</td>\n",
              "      <td>Kathleen</td>\n",
              "      <td>Hanner</td>\n",
              "      <td>Female</td>\n",
              "      <td>United States</td>\n",
              "      <td>25</td>\n",
              "      <td>15/10/2017</td>\n",
              "      <td>3549</td>\n",
              "    </tr>\n",
              "    <tr>\n",
              "      <th>4</th>\n",
              "      <td>5</td>\n",
              "      <td>Nereida</td>\n",
              "      <td>Magwood</td>\n",
              "      <td>Female</td>\n",
              "      <td>United States</td>\n",
              "      <td>58</td>\n",
              "      <td>16/08/2016</td>\n",
              "      <td>2468</td>\n",
              "    </tr>\n",
              "    <tr>\n",
              "      <th>...</th>\n",
              "      <td>...</td>\n",
              "      <td>...</td>\n",
              "      <td>...</td>\n",
              "      <td>...</td>\n",
              "      <td>...</td>\n",
              "      <td>...</td>\n",
              "      <td>...</td>\n",
              "      <td>...</td>\n",
              "    </tr>\n",
              "    <tr>\n",
              "      <th>4995</th>\n",
              "      <td>4996</td>\n",
              "      <td>Roma</td>\n",
              "      <td>Lafollette</td>\n",
              "      <td>Female</td>\n",
              "      <td>United States</td>\n",
              "      <td>34</td>\n",
              "      <td>15/10/2017</td>\n",
              "      <td>2654</td>\n",
              "    </tr>\n",
              "    <tr>\n",
              "      <th>4996</th>\n",
              "      <td>4997</td>\n",
              "      <td>Felisa</td>\n",
              "      <td>Cail</td>\n",
              "      <td>Female</td>\n",
              "      <td>United States</td>\n",
              "      <td>28</td>\n",
              "      <td>16/08/2016</td>\n",
              "      <td>6525</td>\n",
              "    </tr>\n",
              "    <tr>\n",
              "      <th>4997</th>\n",
              "      <td>4998</td>\n",
              "      <td>Demetria</td>\n",
              "      <td>Abbey</td>\n",
              "      <td>Female</td>\n",
              "      <td>United States</td>\n",
              "      <td>32</td>\n",
              "      <td>21/05/2015</td>\n",
              "      <td>3265</td>\n",
              "    </tr>\n",
              "    <tr>\n",
              "      <th>4998</th>\n",
              "      <td>4999</td>\n",
              "      <td>Jeromy</td>\n",
              "      <td>Danz</td>\n",
              "      <td>Male</td>\n",
              "      <td>United States</td>\n",
              "      <td>39</td>\n",
              "      <td>15/10/2017</td>\n",
              "      <td>3265</td>\n",
              "    </tr>\n",
              "    <tr>\n",
              "      <th>4999</th>\n",
              "      <td>5000</td>\n",
              "      <td>Rasheeda</td>\n",
              "      <td>Alkire</td>\n",
              "      <td>Female</td>\n",
              "      <td>United States</td>\n",
              "      <td>29</td>\n",
              "      <td>16/08/2016</td>\n",
              "      <td>6125</td>\n",
              "    </tr>\n",
              "  </tbody>\n",
              "</table>\n",
              "<p>5000 rows × 8 columns</p>\n",
              "</div>\n",
              "      <button class=\"colab-df-convert\" onclick=\"convertToInteractive('df-a66c9aec-cb17-454c-8514-46df0c234a2f')\"\n",
              "              title=\"Convert this dataframe to an interactive table.\"\n",
              "              style=\"display:none;\">\n",
              "        \n",
              "  <svg xmlns=\"http://www.w3.org/2000/svg\" height=\"24px\"viewBox=\"0 0 24 24\"\n",
              "       width=\"24px\">\n",
              "    <path d=\"M0 0h24v24H0V0z\" fill=\"none\"/>\n",
              "    <path d=\"M18.56 5.44l.94 2.06.94-2.06 2.06-.94-2.06-.94-.94-2.06-.94 2.06-2.06.94zm-11 1L8.5 8.5l.94-2.06 2.06-.94-2.06-.94L8.5 2.5l-.94 2.06-2.06.94zm10 10l.94 2.06.94-2.06 2.06-.94-2.06-.94-.94-2.06-.94 2.06-2.06.94z\"/><path d=\"M17.41 7.96l-1.37-1.37c-.4-.4-.92-.59-1.43-.59-.52 0-1.04.2-1.43.59L10.3 9.45l-7.72 7.72c-.78.78-.78 2.05 0 2.83L4 21.41c.39.39.9.59 1.41.59.51 0 1.02-.2 1.41-.59l7.78-7.78 2.81-2.81c.8-.78.8-2.07 0-2.86zM5.41 20L4 18.59l7.72-7.72 1.47 1.35L5.41 20z\"/>\n",
              "  </svg>\n",
              "      </button>\n",
              "      \n",
              "  <style>\n",
              "    .colab-df-container {\n",
              "      display:flex;\n",
              "      flex-wrap:wrap;\n",
              "      gap: 12px;\n",
              "    }\n",
              "\n",
              "    .colab-df-convert {\n",
              "      background-color: #E8F0FE;\n",
              "      border: none;\n",
              "      border-radius: 50%;\n",
              "      cursor: pointer;\n",
              "      display: none;\n",
              "      fill: #1967D2;\n",
              "      height: 32px;\n",
              "      padding: 0 0 0 0;\n",
              "      width: 32px;\n",
              "    }\n",
              "\n",
              "    .colab-df-convert:hover {\n",
              "      background-color: #E2EBFA;\n",
              "      box-shadow: 0px 1px 2px rgba(60, 64, 67, 0.3), 0px 1px 3px 1px rgba(60, 64, 67, 0.15);\n",
              "      fill: #174EA6;\n",
              "    }\n",
              "\n",
              "    [theme=dark] .colab-df-convert {\n",
              "      background-color: #3B4455;\n",
              "      fill: #D2E3FC;\n",
              "    }\n",
              "\n",
              "    [theme=dark] .colab-df-convert:hover {\n",
              "      background-color: #434B5C;\n",
              "      box-shadow: 0px 1px 3px 1px rgba(0, 0, 0, 0.15);\n",
              "      filter: drop-shadow(0px 1px 2px rgba(0, 0, 0, 0.3));\n",
              "      fill: #FFFFFF;\n",
              "    }\n",
              "  </style>\n",
              "\n",
              "      <script>\n",
              "        const buttonEl =\n",
              "          document.querySelector('#df-a66c9aec-cb17-454c-8514-46df0c234a2f button.colab-df-convert');\n",
              "        buttonEl.style.display =\n",
              "          google.colab.kernel.accessAllowed ? 'block' : 'none';\n",
              "\n",
              "        async function convertToInteractive(key) {\n",
              "          const element = document.querySelector('#df-a66c9aec-cb17-454c-8514-46df0c234a2f');\n",
              "          const dataTable =\n",
              "            await google.colab.kernel.invokeFunction('convertToInteractive',\n",
              "                                                     [key], {});\n",
              "          if (!dataTable) return;\n",
              "\n",
              "          const docLinkHtml = 'Like what you see? Visit the ' +\n",
              "            '<a target=\"_blank\" href=https://colab.research.google.com/notebooks/data_table.ipynb>data table notebook</a>'\n",
              "            + ' to learn more about interactive tables.';\n",
              "          element.innerHTML = '';\n",
              "          dataTable['output_type'] = 'display_data';\n",
              "          await google.colab.output.renderOutput(dataTable, element);\n",
              "          const docLink = document.createElement('div');\n",
              "          docLink.innerHTML = docLinkHtml;\n",
              "          element.appendChild(docLink);\n",
              "        }\n",
              "      </script>\n",
              "    </div>\n",
              "  </div>\n",
              "  "
            ],
            "text/plain": [
              "      Unnamed: 0 First Name   Last Name  ... Age        Date    Id\n",
              "0              1      Dulce       Abril  ...  32  15/10/2017  1562\n",
              "1              2       Mara   Hashimoto  ...  25  16/08/2016  1582\n",
              "2              3     Philip        Gent  ...  36  21/05/2015  2587\n",
              "3              4   Kathleen      Hanner  ...  25  15/10/2017  3549\n",
              "4              5    Nereida     Magwood  ...  58  16/08/2016  2468\n",
              "...          ...        ...         ...  ...  ..         ...   ...\n",
              "4995        4996       Roma  Lafollette  ...  34  15/10/2017  2654\n",
              "4996        4997     Felisa        Cail  ...  28  16/08/2016  6525\n",
              "4997        4998   Demetria       Abbey  ...  32  21/05/2015  3265\n",
              "4998        4999     Jeromy        Danz  ...  39  15/10/2017  3265\n",
              "4999        5000   Rasheeda      Alkire  ...  29  16/08/2016  6125\n",
              "\n",
              "[5000 rows x 8 columns]"
            ]
          },
          "metadata": {},
          "execution_count": 6
        }
      ]
    },
    {
      "cell_type": "code",
      "source": [
        "df.drop(['Unnamed: 0', 'Age', 'Date', 'Id'], axis = 1, inplace = True)"
      ],
      "metadata": {
        "id": "wNkQb7UfXpGO"
      },
      "execution_count": null,
      "outputs": []
    },
    {
      "cell_type": "code",
      "source": [
        "d1=dict()\n",
        "header=list(df.columns.values)\n",
        "fields=[]\n",
        "for field in header:\n",
        "  for i in range(5000):\n",
        "    for c in df[field][i]:\n",
        "      if c in d1:\n",
        "        d1[c]= d1[c]+1\n",
        "      else:\n",
        "        d1[c]=1\n",
        "print (d1)\n"
      ],
      "metadata": {
        "colab": {
          "base_uri": "https://localhost:8080/"
        },
        "id": "Bb4ydj7HXwQL",
        "outputId": "f51d5fb5-0611-4e18-f961-dbe81921deb1"
      },
      "execution_count": null,
      "outputs": [
        {
          "output_type": "stream",
          "name": "stdout",
          "text": [
            "{'D': 700, 'u': 1600, 'l': 9000, 'c': 2900, 'e': 22900, 'M': 2100, 'a': 19100, 'r': 9000, 'P': 600, 'h': 1300, 'i': 8900, 'p': 100, 'K': 400, 't': 12700, 'n': 9900, 'N': 200, 'd': 3700, 'G': 1900, 's': 4000, 'o': 2900, 'E': 300, 'V': 300, 'z': 400, 'F': 5400, 'A': 700, 'k': 700, 'y': 1100, 'S': 3200, 'v': 300, 'L': 500, 'T': 300, 'B': 2100, 'H': 800, 'b': 800, 'g': 700, 'C': 600, 'J': 300, 'w': 600, 'm': 4700, 'W': 500, 'R': 200, 'U': 2600, 'Z': 100, 'f': 200, ' ': 3800}\n"
          ]
        }
      ]
    },
    {
      "cell_type": "code",
      "source": [
        "sdd1 = dict( sorted(d1.items(), key=operator.itemgetter(1),reverse=True))\n",
        "print(sdd1)"
      ],
      "metadata": {
        "id": "q9UC-4dXX0Nv"
      },
      "execution_count": null,
      "outputs": []
    },
    {
      "cell_type": "code",
      "source": [
        "res=list()\n",
        "outkey=list()\n",
        "out=dict()\n",
        "value=list(sdd1.values())\n",
        "keys=list(sdd1.keys())\n",
        "for x in value:\n",
        "  for k,v in sdd1.items():\n",
        "    if x==r:\n",
        "      break\n",
        "    if v == x:\n",
        "      res.append(k)\n",
        "  r=x\n",
        "  res1=sorted(res)\n",
        "  res.clear()\n",
        "  for l in res1:\n",
        "    outkey.append(l)\n",
        "print(keys)\n",
        "print (outkey)\n"
      ],
      "metadata": {
        "colab": {
          "base_uri": "https://localhost:8080/"
        },
        "id": "Aq0agdnNZVN7",
        "outputId": "724bdb6b-5b83-45d8-ecf6-f7c7afb7c53d"
      },
      "execution_count": null,
      "outputs": [
        {
          "output_type": "stream",
          "name": "stdout",
          "text": [
            "['e', 'a', 't', 'n', 'l', 'r', 'i', 'F', 'm', 's', ' ', 'd', 'S', 'c', 'o', 'U', 'M', 'B', 'G', 'u', 'h', 'y', 'H', 'b', 'D', 'A', 'k', 'g', 'P', 'C', 'w', 'L', 'W', 'K', 'z', 'E', 'V', 'v', 'T', 'J', 'N', 'R', 'f', 'p', 'Z']\n",
            "['e', 'a', 't', 'n', 'l', 'r', 'i', 'F', 'm', 's', ' ', 'd', 'S', 'c', 'o', 'U', 'B', 'M', 'G', 'u', 'h', 'y', 'H', 'b', 'A', 'D', 'g', 'k', 'C', 'P', 'w', 'L', 'W', 'K', 'z', 'E', 'J', 'T', 'V', 'v', 'N', 'R', 'f', 'Z', 'p']\n"
          ]
        }
      ]
    },
    {
      "cell_type": "code",
      "source": [
        "out = {}\n",
        "for key in outkey:\n",
        "    for valu in value:\n",
        "        out[key] = valu\n",
        "        value.remove(valu)\n",
        "        break  \n",
        "print (\"Resultant dictionary is : \" +  str(out))"
      ],
      "metadata": {
        "colab": {
          "base_uri": "https://localhost:8080/"
        },
        "id": "NGLNcfvD2V4-",
        "outputId": "50013a99-940e-4aa0-d32f-66ada16128ec"
      },
      "execution_count": null,
      "outputs": [
        {
          "output_type": "stream",
          "name": "stdout",
          "text": [
            "Resultant dictionary is : {'e': 22900, 'a': 19100, 't': 12700, 'n': 9900, 'l': 9000, 'r': 9000, 'i': 8900, 'F': 5400, 'm': 4700, 's': 4000, ' ': 3800, 'd': 3700, 'S': 3200, 'c': 2900, 'o': 2900, 'U': 2600, 'B': 2100, 'M': 2100, 'G': 1900, 'u': 1600, 'h': 1300, 'y': 1100, 'H': 800, 'b': 800, 'A': 700, 'D': 700, 'g': 700, 'k': 700, 'C': 600, 'P': 600, 'w': 600, 'L': 500, 'W': 500, 'K': 400, 'z': 400, 'E': 300, 'J': 300, 'T': 300, 'V': 300, 'v': 300, 'N': 200, 'R': 200, 'f': 200, 'Z': 100, 'p': 100}\n"
          ]
        }
      ]
    }
  ]
}